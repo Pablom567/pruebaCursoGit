{
 "cells": [
  {
   "cell_type": "markdown",
   "metadata": {},
   "source": [
    "\n",
    "# Listas De Python\n",
    "\n",
    "Las listas en Python son una secuencia de valores los cuales pueden ser de cualquier tipo, cadenas, números, floats, contenido mixto o lo que sea. \n",
    "Hablaremos sobre las funciones de listas de Python y cómo crear, agregar elementos, agregar al final, invertir y muchas otras funciones de listas de Python.\n",
    "\n",
    "Las listas en Python son un tipo contenedor, compuesto, que se usan para almacenar conjuntos de elementos relacionados del mismo tipo o de tipos distintos.\n",
    "\n",
    "Junto a las clases tuple, range y str, son uno de los tipos de secuencia en Python, con la particularidad de que son mutables. Esto último quiere decir que su contenido se puede modificar después de haber sido creada.\n",
    "\n",
    "Para crear una lista en Python, simplemente hay que encerrar una secuencia de elementos separados por comas entre paréntesis cuadrados [].\n",
    "## Crear listas en Python\n",
    "\n",
    "Para crear una lista Python, encierra los elementos a utilizar entre corchetes como se muestra a continuación:"
   ]
  },
  {
   "cell_type": "code",
   "execution_count": null,
   "metadata": {},
   "outputs": [],
   "source": [
    "lista = [1, 2, 3, 4, 5,2,3,[2,3,4,5,6]]\n",
    "print(lista)\n",
    "lista1 = list((1,2,3,4,5))#uso el constructor de la clase lista\n",
    "print(lista1)\n",
    "lista3 = list(  tuple(   [123,\"pepe\",56,2.5,[1]]  )   )\n",
    "print(lista3)"
   ]
  },
  {
   "cell_type": "markdown",
   "metadata": {},
   "source": [
    "La lista podría ser cadenas de caracteres como esta:"
   ]
  },
  {
   "cell_type": "code",
   "execution_count": null,
   "metadata": {},
   "outputs": [],
   "source": [
    "lista = ['one', 'two', 'three', 'four', 'five']\n",
    "print(lista)"
   ]
  },
  {
   "cell_type": "markdown",
   "metadata": {},
   "source": [
    "Podemos mezclar los tipos de elementos como se muestra:"
   ]
  },
  {
   "cell_type": "code",
   "execution_count": null,
   "metadata": {},
   "outputs": [],
   "source": [
    "lista = ['one', 20 , 5.5 , [10, 15], 'five']\n",
    "print(lista)"
   ]
  },
  {
   "cell_type": "markdown",
   "metadata": {},
   "source": [
    "Además, existen listas anidadas, lo que significa que puede haber listas dentro de listas como en el ejemplo anterior.\n",
    "\n",
    "También, podemos acceder a cualquier elemento de la lista por su índice empezando desde cero.\n"
   ]
  },
  {
   "cell_type": "code",
   "execution_count": null,
   "metadata": {},
   "outputs": [],
   "source": [
    "un_elemento = lista[2]\n",
    "print(un_elemento)"
   ]
  },
  {
   "cell_type": "markdown",
   "metadata": {},
   "source": [
    "## Listas mutables\n",
    "\n",
    "Las listas son mutables porque los elementos se pueden cambiar o reordenar.\n",
    "\n",
    "Si tenemos una lista como la siguiente: "
   ]
  },
  {
   "cell_type": "code",
   "execution_count": null,
   "metadata": {},
   "outputs": [],
   "source": [
    "lista = ['one', 'two', 'three', 'four', 'five']\n",
    "print(lista) "
   ]
  },
  {
   "cell_type": "markdown",
   "metadata": {},
   "source": [
    "Podemos cambiar el tercer elemento de la siguiente forma:"
   ]
  },
  {
   "cell_type": "code",
   "execution_count": null,
   "metadata": {},
   "outputs": [],
   "source": [
    "lista[2] = \"pepe\"\n",
    "print(lista)"
   ]
  },
  {
   "cell_type": "markdown",
   "metadata": {},
   "source": [
    "Si el índice es negativo, cuenta desde el último elemento.\n"
   ]
  },
  {
   "cell_type": "code",
   "execution_count": null,
   "metadata": {},
   "outputs": [],
   "source": [
    "lista = ['one', 'two', 'three', 'four', 'five']\n",
    "cantidad = len(lista)\n",
    "print(\"Cantidad\",cantidad)\n",
    "ultimo = len(lista)-1\n",
    "print(\"Ultimo\",ultimo)\n",
    "elemento = lista[ultimo]\n",
    "print(elemento)"
   ]
  },
  {
   "cell_type": "markdown",
   "metadata": {},
   "source": [
    "## Recorrer una lista\n",
    "\n",
    "Se pueden leer los elementos de la lista utilizando un ciclo for de la siguiente forma:"
   ]
  },
  {
   "cell_type": "code",
   "execution_count": 2,
   "metadata": {
    "tags": []
   },
   "outputs": [
    {
     "output_type": "stream",
     "name": "stdout",
     "text": "one\n2  es un numero\n4  es un numero\ntwo\nthree\n1.23  es un numero\nfour\nfive\n123  es un numero\n"
    }
   ],
   "source": [
    "lista = ['one', 2,4,'two', 'three', 1.23,'four', 'five',123]\n",
    "for elem in lista:#PARA CADA ELEMENTO EN LA LISTA\n",
    "    if type(elem) in (int,float):\n",
    "        print(elem,\"es un numero\")\n",
    "    else:\n",
    "        print(elem)"
   ]
  },
  {
   "cell_type": "markdown",
   "metadata": {},
   "source": [
    "De esta manera se pueden leer los elementos de la lista y actualizarlos:"
   ]
  },
  {
   "cell_type": "code",
   "execution_count": null,
   "metadata": {
    "collapsed": true,
    "jupyter": {
     "outputs_hidden": true
    }
   },
   "outputs": [],
   "source": [
    "\n",
    "\n",
    "lista = [1, 2, 3, 4, 5]\n",
    "x = list(range(len(lista)))\n",
    "print(\"range(): \", x )\n",
    "\n",
    "for i in range(len(lista)):\n",
    "    lista[i]+=5\n",
    "\n",
    "print(lista)"
   ]
  },
  {
   "cell_type": "code",
   "execution_count": null,
   "metadata": {},
   "outputs": [],
   "source": [
    "lista = [1, 2, 3, 4, 5]\n",
    "for i in range(len(lista)):\n",
    "    lista[i]+=5\n",
    "print(lista)"
   ]
  },
  {
   "cell_type": "markdown",
   "metadata": {},
   "source": [
    "La función len ( ) se utiliza para devolver la cantidad de elementos, mientras que la función range () devuelve la lista de índices.\n",
    "Una lista anidada se considera un elemento, independientemente de cuántos elementos contenga."
   ]
  },
  {
   "cell_type": "code",
   "execution_count": null,
   "metadata": {},
   "outputs": [],
   "source": [
    "lista = ['one', 20 , 5.5 , [10, 15], 'five']\n",
    "print(len(lista))"
   ]
  },
  {
   "cell_type": "markdown",
   "metadata": {},
   "source": [
    "## Cortar una lista\n",
    "\n",
    "Puede cortar una lista usando el operador (:) de esta manera:"
   ]
  },
  {
   "cell_type": "code",
   "execution_count": null,
   "metadata": {},
   "outputs": [],
   "source": [
    "lista = ['one', 'two', 'three', 'four', 'five']\n",
    "print(lista[1:3])"
   ]
  },
  {
   "cell_type": "markdown",
   "metadata": {},
   "source": [
    "Si eliminas el primer número, los elementos comenzaran desde el principio. Si eliminas el segundo número, los elementos irán al final.\n",
    "Si eliminas ambos números y permanecen los dos puntos, la lista se copiará.."
   ]
  },
  {
   "cell_type": "code",
   "execution_count": null,
   "metadata": {},
   "outputs": [],
   "source": [
    "lista = ['one', 'two', 'three', 'four', 'five']\n",
    "print(lista[1:3])\n",
    "print(lista[1:])\n",
    "print(lista[:3])\n",
    "print(lista[:])"
   ]
  },
  {
   "cell_type": "markdown",
   "metadata": {},
   "source": [
    "Como las listas son mutables, puedes cambiar los elementos utilizando el operador de corte:"
   ]
  },
  {
   "cell_type": "code",
   "execution_count": null,
   "metadata": {},
   "outputs": [],
   "source": [
    "lista = ['one', 'two', 'three', 'four', 'five']\n",
    "lista[1:3] = ['Hola', 'Gente']\n",
    "print(lista)"
   ]
  },
  {
   "cell_type": "markdown",
   "metadata": {},
   "source": [
    "## Insertar en una lista\n",
    "\n",
    "Puede usar el método insert para insertar un elemento en la lista así:"
   ]
  },
  {
   "cell_type": "code",
   "execution_count": null,
   "metadata": {},
   "outputs": [],
   "source": [
    "lista = [1, 2, 3, 4, 5]\n",
    "lista.insert(1,'Hola')\n",
    "print(lista)"
   ]
  },
  {
   "cell_type": "markdown",
   "metadata": {},
   "source": [
    "El índice del elemento insertado empezara desde cero."
   ]
  },
  {
   "cell_type": "markdown",
   "metadata": {},
   "source": [
    "## Agregar a una lista al final\n",
    "\n",
    "Para agregar un elemento a una lista, puedes utilizar el método de agregar:\n"
   ]
  },
  {
   "cell_type": "code",
   "execution_count": null,
   "metadata": {},
   "outputs": [],
   "source": [
    "lista = ['one', 'two', 'three', 'four', 'five']\n",
    "lista.append(\"new one\")\n",
    "print(lista)"
   ]
  },
  {
   "cell_type": "markdown",
   "metadata": {},
   "source": [
    "Puede agregar más de un elemento usando el método extend:"
   ]
  },
  {
   "cell_type": "code",
   "execution_count": null,
   "metadata": {},
   "outputs": [],
   "source": [
    "lista1 = ['one', 'two', 'three', 'four', 'five']\n",
    "print(\"antes:\",lista1)\n",
    "lista2 = [\"Hello\", \"Guys\"]\n",
    "lista1.extend(lista2)\n",
    "print(\"despues:\",lista1)\n",
    "print(lista2)"
   ]
  },
  {
   "cell_type": "markdown",
   "metadata": {},
   "source": [
    "## Ordenar una lista\n",
    "\n",
    "Para ordenar una lista, utiliza el método sort. "
   ]
  },
  {
   "cell_type": "code",
   "execution_count": null,
   "metadata": {},
   "outputs": [],
   "source": [
    "lista = ['cde', 'fgh', 'abc', 'klm', 'opq']\n",
    "lista2 = [3, 5, 2, 4, 1]\n",
    "lista.sort()\n",
    "lista2.sort()\n",
    "print(lista)\n",
    "print(lista2)"
   ]
  },
  {
   "cell_type": "markdown",
   "metadata": {},
   "source": [
    "## Invertir una lista\n",
    "\n",
    "Puedes invertir el orden de una lista en Python usando el método reverse de esta manera:"
   ]
  },
  {
   "cell_type": "code",
   "execution_count": null,
   "metadata": {},
   "outputs": [],
   "source": [
    "lista = [1, 2, 3, 4, 5]\n",
    "print(lista)\n",
    "lista.reverse()\n",
    "print(lista)"
   ]
  },
  {
   "cell_type": "markdown",
   "metadata": {},
   "source": [
    "## Índice de un elemento\n",
    "\n",
    "Puede usar el método index para obtener el índice de un elemento así:\n",
    "Si tiene más de un elemento con el mismo valor la función de índice devolverá el primer índice que coincida con el valor proporcionado."
   ]
  },
  {
   "cell_type": "code",
   "execution_count": 6,
   "metadata": {
    "tags": []
   },
   "outputs": [
    {
     "output_type": "stream",
     "name": "stdout",
     "text": "2\n"
    }
   ],
   "source": [
    "lista = [1, 4, 66, 2, 7]\n",
    "print(lista.index(max(lista)))"
   ]
  },
  {
   "cell_type": "markdown",
   "metadata": {},
   "source": [
    "## Eliminar un elemento\n",
    "\n",
    "Puede eliminar un elemento especificando el índice del elemento al método pop de la siguiente forma:"
   ]
  },
  {
   "cell_type": "code",
   "execution_count": null,
   "metadata": {},
   "outputs": [],
   "source": [
    "lista = ['one', 'two', 'three', 'four', 'five']\n",
    "print(lista)\n",
    "removed = lista.pop(2)\n",
    "print(lista)\n",
    "print(removed)"
   ]
  },
  {
   "cell_type": "markdown",
   "metadata": {},
   "source": [
    "Si no especificas un índice para el método pop, eliminará el último elemento."
   ]
  },
  {
   "cell_type": "code",
   "execution_count": null,
   "metadata": {},
   "outputs": [],
   "source": [
    "lista = ['one', 'two', 'three', 'four', 'five']\n",
    "eliminado = lista.pop()\n",
    "print(lista)\n",
    "print(eliminado)"
   ]
  },
  {
   "cell_type": "markdown",
   "metadata": {},
   "source": [
    "También se puede eliminar un elemento utilizando el método remove de la siguiente forma:"
   ]
  },
  {
   "cell_type": "code",
   "execution_count": null,
   "metadata": {},
   "outputs": [],
   "source": [
    "lista= ['one', 'two', 'three', 'four', 'five']\n",
    "lista.remove('three')\n",
    "print(lista)"
   ]
  },
  {
   "cell_type": "markdown",
   "metadata": {},
   "source": [
    "Se Puede utilizar el operador del para eliminar un elemento:"
   ]
  },
  {
   "cell_type": "code",
   "execution_count": null,
   "metadata": {},
   "outputs": [],
   "source": [
    "lista = ['one', 'two', 'three', 'four', 'five']\n",
    "del lista[2]\n",
    "print(lista)"
   ]
  },
  {
   "cell_type": "markdown",
   "metadata": {},
   "source": [
    "Además, se puede eliminar múltiples elementos usando un operador de corte como se muestra en la siguiente imagen:"
   ]
  },
  {
   "cell_type": "code",
   "execution_count": null,
   "metadata": {},
   "outputs": [],
   "source": [
    "lista = ['one', 'two', 'three', 'four', 'five']\n",
    "del lista[1:3]\n",
    "print(lista)\n"
   ]
  },
  {
   "cell_type": "markdown",
   "metadata": {},
   "source": [
    "## Funciones agregadas\n",
    "\n",
    "Python tiene algunas funciones agregadas integradas como:"
   ]
  },
  {
   "cell_type": "code",
   "execution_count": null,
   "metadata": {},
   "outputs": [],
   "source": [
    "lista = [5, 3, 2, 4, 1]\n",
    "print(len(lista))\n",
    "print(min(lista))\n",
    "print(max(lista))\n",
    "print(sum(lista))"
   ]
  },
  {
   "cell_type": "markdown",
   "metadata": {},
   "source": [
    "La función sum( ) funciona en elementos numéricos.\n",
    "Además, puede usar estas funciones (max ( ), len (), etc.) para manejar cadenas de caracteres."
   ]
  },
  {
   "cell_type": "code",
   "execution_count": null,
   "metadata": {},
   "outputs": [],
   "source": [
    "lista = ['one', 'two', 'three', 'four', 'five']\n",
    "lista2= ['four', 'one', 'two', 'five', 'three']\n",
    "if (lista == lista2):\n",
    "    print(\"match\")\n",
    "else:\n",
    "    print(\"No match\")"
   ]
  },
  {
   "cell_type": "markdown",
   "metadata": {},
   "source": [
    "## Listado de métodos de la clase list\n",
    "\n",
    "|Método                  |Descripción|\n",
    "|--                          |--|\n",
    "|append()                    |Añade un nuevo elemento al final de la lista.\n",
    "|extend()                    |Añade un grupo de elementos (iterables) al final de la lista.\n",
    "|insert(indice, elemento)    |Inserta un elemento en una posición concreta de la lista.\n",
    "|remove(elemento)            |Elimina la primera ocurrencia del elemento en la lista.\n",
    "|pop([i])                    |Obtiene y elimina el elemento de la lista en la posición i. Si no se especifica, obtiene y elimina el último elemento.\n",
    "|clear()                     |Borra todos los elementos de la lista.\n",
    "|index(elemento)             |Obtiene el índice de la primera ocurrencia del elemento en la lista. Si el elemento no se encuentra, se lanza la excepción                                 ValueError.\n",
    "|count(elemento)             |Devuelve el número de ocurrencias del elemento en la lista.\n",
    "|sort()                      |Ordena los elementos de la lista utilizando el operador <.\n",
    "|reverse()                   |Obtiene los elementos de la lista en orden inverso.\n",
    "|copy()                      |Devuelve una copia poco profunda de la lista."
   ]
  },
  {
   "cell_type": "markdown",
   "metadata": {},
   "source": [
    "## Operaciones matemáticas en las listas\n",
    "\n",
    "Puedes utilizar el signo más (+) para combinar listas de la siguiente forma:"
   ]
  },
  {
   "cell_type": "code",
   "execution_count": null,
   "metadata": {},
   "outputs": [],
   "source": [
    "lista1 = [1, 2, 3]\n",
    "lista2 = [4, 5, 6]\n",
    "print(lista1 + lista2)"
   ]
  },
  {
   "cell_type": "markdown",
   "metadata": {},
   "source": [
    "Además, puedes repetir una lista usando el operador de multiplicar de esta manera:"
   ]
  },
  {
   "cell_type": "code",
   "execution_count": null,
   "metadata": {},
   "outputs": [],
   "source": [
    "list1 = [1, 2, 3]\n",
    "print(list1 * 5)"
   ]
  },
  {
   "cell_type": "markdown",
   "metadata": {},
   "source": [
    "## Listas y cadenas\n",
    "\n",
    "Para convertir una cadena en caracteres separados, puede usar la función list de esta forma:"
   ]
  },
  {
   "cell_type": "code",
   "execution_count": null,
   "metadata": {},
   "outputs": [],
   "source": [
    "un_string = \"LikeGeeks\"\n",
    "lista = list(un_string)\n",
    "print(lista)"
   ]
  },
  {
   "cell_type": "markdown",
   "metadata": {},
   "source": [
    "La función list se utiliza para dividir una cadena en letras individuales.\n",
    "\n",
    "Se puede usar el método split para dividir el texto en palabras:"
   ]
  },
  {
   "cell_type": "code",
   "execution_count": 1,
   "metadata": {
    "tags": []
   },
   "outputs": [
    {
     "output_type": "stream",
     "name": "stdout",
     "text": "['La', 'casa', 'grande', 'es', 'una', 'pelicula', 'Argentina']\n"
    }
   ],
   "source": [
    "un_string = \"La casa grande es una pelicula Argentina\"\n",
    "lista = un_string.split()\n",
    "print(lista)"
   ]
  },
  {
   "cell_type": "markdown",
   "metadata": {},
   "source": [
    "## Unir una lista\n",
    "\n",
    "El proceso opuesto de dividir una cadena en una lista de cadenas es unirlas para formar una cadena.\n",
    "\n",
    "Se puede unir los elementos de la lista para hacer una cadena utilizando el método join de esta manera:"
   ]
  },
  {
   "cell_type": "code",
   "execution_count": null,
   "metadata": {},
   "outputs": [],
   "source": [
    "lista = ['Argentina', 'es', 'un', 'país','de','America','del','Sur']\n",
    "delimitador = ' '\n",
    "salida = delimitador.join(lista)\n",
    "print(\"a\".join(lista))\n",
    "print(salida)"
   ]
  },
  {
   "cell_type": "markdown",
   "metadata": {},
   "source": [
    "## Aliasing\n",
    "\n",
    "Cuando dos variables hacen referencia al mismo objeto como se muestra a continuación:"
   ]
  },
  {
   "cell_type": "code",
   "execution_count": null,
   "metadata": {},
   "outputs": [],
   "source": [
    "lista = ['Argentina', 'es', 'un', 'país','de','America','del','Sur']\n",
    "lista2 = lista"
   ]
  },
  {
   "cell_type": "markdown",
   "metadata": {},
   "source": [
    "Aliasing significa que el objeto tiene más de una referencia con más de un nombre."
   ]
  },
  {
   "cell_type": "code",
   "execution_count": null,
   "metadata": {},
   "outputs": [],
   "source": [
    "lista2[3] = \"pepe\"\n",
    "print(lista)"
   ]
  },
  {
   "cell_type": "code",
   "execution_count": null,
   "metadata": {},
   "outputs": [],
   "source": []
  }
 ],
 "metadata": {
  "kernelspec": {
   "display_name": "Python 3.8.3 32-bit",
   "language": "python",
   "name": "python38332bit301c026383c44d04b1d5e99e62f4ae11"
  },
  "language_info": {
   "codemirror_mode": {
    "name": "ipython",
    "version": 3
   },
   "file_extension": ".py",
   "mimetype": "text/x-python",
   "name": "python",
   "nbconvert_exporter": "python",
   "pygments_lexer": "ipython3",
   "version": "3.8.3-final"
  }
 },
 "nbformat": 4,
 "nbformat_minor": 4
}